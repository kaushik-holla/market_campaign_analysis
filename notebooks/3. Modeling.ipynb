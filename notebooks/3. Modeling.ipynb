{
 "cells": [
  {
   "cell_type": "code",
   "execution_count": 59,
   "metadata": {},
   "outputs": [],
   "source": [
    "## Importing Libraries\n",
    "import pandas as pd\n",
    "\n",
    "## XGBoost model\n",
    "from xgboost import XGBClassifier\n",
    "from imblearn.over_sampling import SMOTE\n",
    "\n",
    "## SKLearn libraries\n",
    "from sklearn.model_selection import train_test_split\n",
    "from sklearn.compose import ColumnTransformer\n",
    "from sklearn.utils import resample\n",
    "from sklearn.metrics import classification_report, confusion_matrix, make_scorer, f1_score\n",
    "from sklearn.feature_selection import RFECV\n",
    "from sklearn.preprocessing import OneHotEncoder, StandardScaler\n"
   ]
  },
  {
   "cell_type": "markdown",
   "metadata": {},
   "source": [
    "## Ideation and Approach: \n",
    "\n",
    "1. By now I know that dataset is highly imbalanced. In order to work with this, I will use XGBoost along with weight distribution, giving more weight to imbalance class. <br>\n",
    "2. Through EDA, I know certain features have correlation with donation but many dont and no clear feature selection could be made so inorder to handle this, I will build the modle using RFE (Recursive Feature Eliminator)\n",
    "3.  I will combine all donations into one feature called donated. I will predict the likelihood of people being able to donate and those are our targeted donors for mailing campaign. \n",
    "4. Once we determine Donors, we can estimate the donation for next 6, 12, 18 and 24 months. \n"
   ]
  },
  {
   "cell_type": "code",
   "execution_count": 60,
   "metadata": {},
   "outputs": [],
   "source": [
    "donor_df = pd.read_csv('../Data/cleaned_data/data_for_modeling.csv')"
   ]
  },
  {
   "cell_type": "code",
   "execution_count": 61,
   "metadata": {},
   "outputs": [
    {
     "data": {
      "text/plain": [
       "(19895, 30)"
      ]
     },
     "execution_count": 61,
     "metadata": {},
     "output_type": "execute_result"
    }
   ],
   "source": [
    "donor_df.shape"
   ]
  },
  {
   "cell_type": "code",
   "execution_count": 62,
   "metadata": {},
   "outputs": [
    {
     "data": {
      "text/plain": [
       "Index(['TARGET_B', 'TARGET_D6', 'TARGET_D12', 'TARGET_D18', 'TARGET_D24',\n",
       "       'CONTROL_NUMBER', 'MONTHS_SINCE_ORIGIN', 'NUMBER_OF_RESP', 'DONOR_AGE',\n",
       "       'IN_HOUSE', 'URBANICITY', 'CLUSTER_CODE', 'HOME_OWNER', 'DONOR_GENDER',\n",
       "       'INCOME_GROUP', 'PUBLISHED_PHONE', 'WEALTH_RATING', 'MEDIAN_HOME_VALUE',\n",
       "       'MEDIAN_HOUSEHOLD_INCOME', 'PCT_OWNER_OCCUPIED', 'PEP_STAR',\n",
       "       'RECENT_STAR_STATUS', 'RECENCY_FREQ_STATUS',\n",
       "       'RECENT_CARD_RESPONSE_PROP', 'MONTHS_SINCE_LAST_PROM_RESP',\n",
       "       'LAST_GIFT_AMT', 'NUMBER_PROM_12', 'MONTHS_SINCE_LAST_GIFT',\n",
       "       'MONTHS_SINCE_FIRST_GIFT', 'donated'],\n",
       "      dtype='object')"
      ]
     },
     "execution_count": 62,
     "metadata": {},
     "output_type": "execute_result"
    }
   ],
   "source": [
    "# donor_df.dtypes\n",
    "donor_df.columns"
   ]
  },
  {
   "cell_type": "code",
   "execution_count": 63,
   "metadata": {},
   "outputs": [],
   "source": [
    "## Creating features and target variable\n",
    "X = donor_df.drop(columns=['TARGET_B', 'TARGET_D6', 'TARGET_D12', 'TARGET_D18', 'TARGET_D24', 'CONTROL_NUMBER', 'donated'], axis = 1)\n",
    "y = donor_df['donated']"
   ]
  },
  {
   "cell_type": "markdown",
   "metadata": {},
   "source": [
    "### 1. Data Prep for building a predective model\n",
    "\n",
    "I will be splitting the data into train and test at 80:20 ratio. I will further split training data into 85:15 for training and validation set. \n",
    "\n",
    "I will be performing column transformation after split to ensure no data leaquage and represent the test data as it appears in real world scenario.  "
   ]
  },
  {
   "cell_type": "code",
   "execution_count": 64,
   "metadata": {},
   "outputs": [
    {
     "data": {
      "text/html": [
       "<div>\n",
       "<style scoped>\n",
       "    .dataframe tbody tr th:only-of-type {\n",
       "        vertical-align: middle;\n",
       "    }\n",
       "\n",
       "    .dataframe tbody tr th {\n",
       "        vertical-align: top;\n",
       "    }\n",
       "\n",
       "    .dataframe thead th {\n",
       "        text-align: right;\n",
       "    }\n",
       "</style>\n",
       "<table border=\"1\" class=\"dataframe\">\n",
       "  <thead>\n",
       "    <tr style=\"text-align: right;\">\n",
       "      <th></th>\n",
       "      <th>MONTHS_SINCE_ORIGIN</th>\n",
       "      <th>NUMBER_OF_RESP</th>\n",
       "      <th>DONOR_AGE</th>\n",
       "      <th>IN_HOUSE</th>\n",
       "      <th>URBANICITY</th>\n",
       "      <th>CLUSTER_CODE</th>\n",
       "      <th>HOME_OWNER</th>\n",
       "      <th>DONOR_GENDER</th>\n",
       "      <th>INCOME_GROUP</th>\n",
       "      <th>PUBLISHED_PHONE</th>\n",
       "      <th>...</th>\n",
       "      <th>PCT_OWNER_OCCUPIED</th>\n",
       "      <th>PEP_STAR</th>\n",
       "      <th>RECENT_STAR_STATUS</th>\n",
       "      <th>RECENCY_FREQ_STATUS</th>\n",
       "      <th>RECENT_CARD_RESPONSE_PROP</th>\n",
       "      <th>MONTHS_SINCE_LAST_PROM_RESP</th>\n",
       "      <th>LAST_GIFT_AMT</th>\n",
       "      <th>NUMBER_PROM_12</th>\n",
       "      <th>MONTHS_SINCE_LAST_GIFT</th>\n",
       "      <th>MONTHS_SINCE_FIRST_GIFT</th>\n",
       "    </tr>\n",
       "  </thead>\n",
       "  <tbody>\n",
       "    <tr>\n",
       "      <th>0</th>\n",
       "      <td>137</td>\n",
       "      <td>15</td>\n",
       "      <td>42.0</td>\n",
       "      <td>1</td>\n",
       "      <td>S</td>\n",
       "      <td>11.0</td>\n",
       "      <td>H</td>\n",
       "      <td>F</td>\n",
       "      <td>6.0</td>\n",
       "      <td>1</td>\n",
       "      <td>...</td>\n",
       "      <td>45</td>\n",
       "      <td>1</td>\n",
       "      <td>0</td>\n",
       "      <td>A4</td>\n",
       "      <td>0.400</td>\n",
       "      <td>17.0</td>\n",
       "      <td>189.0</td>\n",
       "      <td>15</td>\n",
       "      <td>17</td>\n",
       "      <td>128</td>\n",
       "    </tr>\n",
       "    <tr>\n",
       "      <th>1</th>\n",
       "      <td>65</td>\n",
       "      <td>33</td>\n",
       "      <td>42.0</td>\n",
       "      <td>1</td>\n",
       "      <td>R</td>\n",
       "      <td>53.0</td>\n",
       "      <td>U</td>\n",
       "      <td>M</td>\n",
       "      <td>5.0</td>\n",
       "      <td>0</td>\n",
       "      <td>...</td>\n",
       "      <td>79</td>\n",
       "      <td>1</td>\n",
       "      <td>0</td>\n",
       "      <td>A1</td>\n",
       "      <td>0.000</td>\n",
       "      <td>18.0</td>\n",
       "      <td>0.0</td>\n",
       "      <td>33</td>\n",
       "      <td>7</td>\n",
       "      <td>57</td>\n",
       "    </tr>\n",
       "    <tr>\n",
       "      <th>2</th>\n",
       "      <td>53</td>\n",
       "      <td>16</td>\n",
       "      <td>42.0</td>\n",
       "      <td>1</td>\n",
       "      <td>U</td>\n",
       "      <td>7.0</td>\n",
       "      <td>H</td>\n",
       "      <td>M</td>\n",
       "      <td>5.0</td>\n",
       "      <td>0</td>\n",
       "      <td>...</td>\n",
       "      <td>55</td>\n",
       "      <td>0</td>\n",
       "      <td>0</td>\n",
       "      <td>A1</td>\n",
       "      <td>0.167</td>\n",
       "      <td>20.0</td>\n",
       "      <td>0.0</td>\n",
       "      <td>16</td>\n",
       "      <td>20</td>\n",
       "      <td>57</td>\n",
       "    </tr>\n",
       "    <tr>\n",
       "      <th>3</th>\n",
       "      <td>53</td>\n",
       "      <td>33</td>\n",
       "      <td>42.0</td>\n",
       "      <td>0</td>\n",
       "      <td>C</td>\n",
       "      <td>22.0</td>\n",
       "      <td>U</td>\n",
       "      <td>M</td>\n",
       "      <td>5.0</td>\n",
       "      <td>0</td>\n",
       "      <td>...</td>\n",
       "      <td>18</td>\n",
       "      <td>1</td>\n",
       "      <td>1</td>\n",
       "      <td>S3</td>\n",
       "      <td>0.125</td>\n",
       "      <td>18.0</td>\n",
       "      <td>0.0</td>\n",
       "      <td>33</td>\n",
       "      <td>18</td>\n",
       "      <td>52</td>\n",
       "    </tr>\n",
       "    <tr>\n",
       "      <th>4</th>\n",
       "      <td>17</td>\n",
       "      <td>28</td>\n",
       "      <td>42.0</td>\n",
       "      <td>1</td>\n",
       "      <td>C</td>\n",
       "      <td>24.0</td>\n",
       "      <td>H</td>\n",
       "      <td>M</td>\n",
       "      <td>6.0</td>\n",
       "      <td>0</td>\n",
       "      <td>...</td>\n",
       "      <td>85</td>\n",
       "      <td>0</td>\n",
       "      <td>0</td>\n",
       "      <td>F1</td>\n",
       "      <td>0.000</td>\n",
       "      <td>17.0</td>\n",
       "      <td>50.0</td>\n",
       "      <td>28</td>\n",
       "      <td>20</td>\n",
       "      <td>20</td>\n",
       "    </tr>\n",
       "  </tbody>\n",
       "</table>\n",
       "<p>5 rows × 23 columns</p>\n",
       "</div>"
      ],
      "text/plain": [
       "   MONTHS_SINCE_ORIGIN  NUMBER_OF_RESP  DONOR_AGE  IN_HOUSE URBANICITY  \\\n",
       "0                  137              15       42.0         1          S   \n",
       "1                   65              33       42.0         1          R   \n",
       "2                   53              16       42.0         1          U   \n",
       "3                   53              33       42.0         0          C   \n",
       "4                   17              28       42.0         1          C   \n",
       "\n",
       "   CLUSTER_CODE HOME_OWNER DONOR_GENDER  INCOME_GROUP  PUBLISHED_PHONE  ...  \\\n",
       "0          11.0          H            F           6.0                1  ...   \n",
       "1          53.0          U            M           5.0                0  ...   \n",
       "2           7.0          H            M           5.0                0  ...   \n",
       "3          22.0          U            M           5.0                0  ...   \n",
       "4          24.0          H            M           6.0                0  ...   \n",
       "\n",
       "   PCT_OWNER_OCCUPIED  PEP_STAR  RECENT_STAR_STATUS  RECENCY_FREQ_STATUS  \\\n",
       "0                  45         1                   0                   A4   \n",
       "1                  79         1                   0                   A1   \n",
       "2                  55         0                   0                   A1   \n",
       "3                  18         1                   1                   S3   \n",
       "4                  85         0                   0                   F1   \n",
       "\n",
       "   RECENT_CARD_RESPONSE_PROP  MONTHS_SINCE_LAST_PROM_RESP LAST_GIFT_AMT  \\\n",
       "0                      0.400                         17.0         189.0   \n",
       "1                      0.000                         18.0           0.0   \n",
       "2                      0.167                         20.0           0.0   \n",
       "3                      0.125                         18.0           0.0   \n",
       "4                      0.000                         17.0          50.0   \n",
       "\n",
       "   NUMBER_PROM_12  MONTHS_SINCE_LAST_GIFT  MONTHS_SINCE_FIRST_GIFT  \n",
       "0              15                      17                      128  \n",
       "1              33                       7                       57  \n",
       "2              16                      20                       57  \n",
       "3              33                      18                       52  \n",
       "4              28                      20                       20  \n",
       "\n",
       "[5 rows x 23 columns]"
      ]
     },
     "execution_count": 64,
     "metadata": {},
     "output_type": "execute_result"
    }
   ],
   "source": [
    "X.head()"
   ]
  },
  {
   "cell_type": "code",
   "execution_count": 65,
   "metadata": {},
   "outputs": [],
   "source": [
    "# y"
   ]
  },
  {
   "cell_type": "code",
   "execution_count": 66,
   "metadata": {},
   "outputs": [],
   "source": [
    "## Splitting the data into training+validation and testing set and ensuring the data distribution remains the same\n",
    "X_train_val, X_test, y_train_val, y_test = train_test_split(X, y, test_size=0.2, stratify= y, random_state=7)\n",
    "X_train, X_val, y_train, y_val = train_test_split(X_train_val, y_train_val, test_size=0.15, stratify= y_train_val, random_state=7)"
   ]
  },
  {
   "cell_type": "code",
   "execution_count": 67,
   "metadata": {},
   "outputs": [
    {
     "name": "stdout",
     "output_type": "stream",
     "text": [
      "X-train-val:  (15916, 23)\n",
      "X-train:  (13528, 23)\n",
      "X-val:  (2388, 23)\n",
      "X-test:  (3979, 23)\n"
     ]
    }
   ],
   "source": [
    "print(\"X-train-val: \", X_train_val.shape)\n",
    "print(\"X-train: \", X_train.shape)\n",
    "print(\"X-val: \", X_val.shape)\n",
    "print(\"X-test: \", X_test.shape)"
   ]
  },
  {
   "cell_type": "code",
   "execution_count": 68,
   "metadata": {},
   "outputs": [
    {
     "name": "stdout",
     "output_type": "stream",
     "text": [
      "3\n",
      "{dtype('O'), dtype('float64'), dtype('int64')}\n"
     ]
    }
   ],
   "source": [
    "print(X_train_val.dtypes.nunique())\n",
    "print(set(X_train_val.dtypes.to_list()))"
   ]
  },
  {
   "cell_type": "code",
   "execution_count": 69,
   "metadata": {},
   "outputs": [],
   "source": [
    "## Selecting categorical and numerical features to use in the pipeline\n",
    "cat_to_transform = X_train.select_dtypes(include=['object']).columns\n",
    "numerical_features = X_train.select_dtypes(include=['int64', 'float64']).columns "
   ]
  },
  {
   "cell_type": "code",
   "execution_count": 70,
   "metadata": {},
   "outputs": [],
   "source": [
    "## Defining the pipeline\n",
    "# Scaling numerical features and encoding categorical features\n",
    "\n",
    "preprocessor = ColumnTransformer(\n",
    "    transformers = [\n",
    "        ('numerical', StandardScaler(), numerical_features),\n",
    "        ('categorical', OneHotEncoder(drop='first'), cat_to_transform)\n",
    "    ]\n",
    ")"
   ]
  },
  {
   "cell_type": "code",
   "execution_count": 71,
   "metadata": {},
   "outputs": [],
   "source": [
    "## Fitting the preprocessor on the training data\n",
    "X_train_t = preprocessor.fit_transform(X_train)\n",
    "\n",
    "## Transforming the validation and test data\n",
    "X_val_t = preprocessor.transform(X_val)\n",
    "X_test_t = preprocessor.transform(X_test)"
   ]
  },
  {
   "cell_type": "code",
   "execution_count": 72,
   "metadata": {},
   "outputs": [],
   "source": [
    "# ## Trying SMOTE to handle class imbalance\n",
    "# smote = SMOTE(random_state=42)\n",
    "# X_train_t, y_train = smote.fit_resample(X_train_t, y_train)"
   ]
  },
  {
   "cell_type": "markdown",
   "metadata": {},
   "source": [
    "Tried Smot, precision goes up by 0.01 but recall drops by 0.4. \n",
    "\n",
    "Next: Downsample the Majority class and evaluate the performance"
   ]
  },
  {
   "cell_type": "code",
   "execution_count": 73,
   "metadata": {},
   "outputs": [],
   "source": [
    "## Trying Downsampling to handle class imbalance\n",
    "# Combine the features and target into a single DataFrame for downsampling\n",
    "train_data = pd.DataFrame(X_train_t, columns=preprocessor.get_feature_names_out())\n",
    "train_data['DONATED'] = y_train.reset_index(drop=True)\n",
    "\n",
    "# Separate the majority and minority classes\n",
    "majority_class = train_data[train_data.DONATED == 0]\n",
    "minority_class = train_data[train_data.DONATED == 1]\n",
    "\n",
    "# Downsample the majority class\n",
    "majority_downsampled = resample(majority_class, \n",
    "                                replace=False,    # sample without replacement\n",
    "                                n_samples=len(minority_class),     # to match minority class\n",
    "                                random_state=7)  # reproducible results\n",
    "\n",
    "# Combine minority class with downsampled majority class\n",
    "downsampled_data = pd.concat([majority_downsampled, minority_class])\n",
    "\n",
    "# Separate features and target\n",
    "X_train_t = downsampled_data.drop('DONATED', axis=1)\n",
    "y_train = downsampled_data['DONATED']\n",
    "\n",
    "## Converting the data to numpy arrays to keep the format consistent as required by XGBoost\n",
    "X_train_t = X_train_t.values  \n",
    "# y_train = y_train.values\n"
   ]
  },
  {
   "cell_type": "markdown",
   "metadata": {},
   "source": [
    "### 2. Feature Selection\n",
    "\n",
    "I will be using RFECV(Recursive Feature Elimination with Cross-Validation) to select the best features for the model. This will help in reducing the number of features and also help in improving the model performance."
   ]
  },
  {
   "cell_type": "code",
   "execution_count": 74,
   "metadata": {},
   "outputs": [
    {
     "data": {
      "text/plain": [
       "0    671\n",
       "1    671\n",
       "Name: DONATED, dtype: int64"
      ]
     },
     "execution_count": 74,
     "metadata": {},
     "output_type": "execute_result"
    }
   ],
   "source": [
    "y_train.value_counts()"
   ]
  },
  {
   "cell_type": "code",
   "execution_count": 75,
   "metadata": {},
   "outputs": [],
   "source": [
    "## Defining the class weight adjustment for the XGBClassifier to handle the class imbalance\n",
    "scale_pos_weight = y_train.value_counts()[0]/y_train.value_counts()[1]\n",
    "xgb_classifier = XGBClassifier(scale_pos_weight=scale_pos_weight, \n",
    "                               random_state=7,\n",
    "                                n_estimators=100, \n",
    "                                max_depth=10,\n",
    "                                learning_rate=0.01,\n",
    "                                #  early_stopping_rounds=5,\n",
    "                                 n_jobs=-1)"
   ]
  },
  {
   "cell_type": "code",
   "execution_count": 76,
   "metadata": {},
   "outputs": [
    {
     "data": {
      "text/html": [
       "<style>#sk-container-id-4 {color: black;background-color: white;}#sk-container-id-4 pre{padding: 0;}#sk-container-id-4 div.sk-toggleable {background-color: white;}#sk-container-id-4 label.sk-toggleable__label {cursor: pointer;display: block;width: 100%;margin-bottom: 0;padding: 0.3em;box-sizing: border-box;text-align: center;}#sk-container-id-4 label.sk-toggleable__label-arrow:before {content: \"▸\";float: left;margin-right: 0.25em;color: #696969;}#sk-container-id-4 label.sk-toggleable__label-arrow:hover:before {color: black;}#sk-container-id-4 div.sk-estimator:hover label.sk-toggleable__label-arrow:before {color: black;}#sk-container-id-4 div.sk-toggleable__content {max-height: 0;max-width: 0;overflow: hidden;text-align: left;background-color: #f0f8ff;}#sk-container-id-4 div.sk-toggleable__content pre {margin: 0.2em;color: black;border-radius: 0.25em;background-color: #f0f8ff;}#sk-container-id-4 input.sk-toggleable__control:checked~div.sk-toggleable__content {max-height: 200px;max-width: 100%;overflow: auto;}#sk-container-id-4 input.sk-toggleable__control:checked~label.sk-toggleable__label-arrow:before {content: \"▾\";}#sk-container-id-4 div.sk-estimator input.sk-toggleable__control:checked~label.sk-toggleable__label {background-color: #d4ebff;}#sk-container-id-4 div.sk-label input.sk-toggleable__control:checked~label.sk-toggleable__label {background-color: #d4ebff;}#sk-container-id-4 input.sk-hidden--visually {border: 0;clip: rect(1px 1px 1px 1px);clip: rect(1px, 1px, 1px, 1px);height: 1px;margin: -1px;overflow: hidden;padding: 0;position: absolute;width: 1px;}#sk-container-id-4 div.sk-estimator {font-family: monospace;background-color: #f0f8ff;border: 1px dotted black;border-radius: 0.25em;box-sizing: border-box;margin-bottom: 0.5em;}#sk-container-id-4 div.sk-estimator:hover {background-color: #d4ebff;}#sk-container-id-4 div.sk-parallel-item::after {content: \"\";width: 100%;border-bottom: 1px solid gray;flex-grow: 1;}#sk-container-id-4 div.sk-label:hover label.sk-toggleable__label {background-color: #d4ebff;}#sk-container-id-4 div.sk-serial::before {content: \"\";position: absolute;border-left: 1px solid gray;box-sizing: border-box;top: 0;bottom: 0;left: 50%;z-index: 0;}#sk-container-id-4 div.sk-serial {display: flex;flex-direction: column;align-items: center;background-color: white;padding-right: 0.2em;padding-left: 0.2em;position: relative;}#sk-container-id-4 div.sk-item {position: relative;z-index: 1;}#sk-container-id-4 div.sk-parallel {display: flex;align-items: stretch;justify-content: center;background-color: white;position: relative;}#sk-container-id-4 div.sk-item::before, #sk-container-id-4 div.sk-parallel-item::before {content: \"\";position: absolute;border-left: 1px solid gray;box-sizing: border-box;top: 0;bottom: 0;left: 50%;z-index: -1;}#sk-container-id-4 div.sk-parallel-item {display: flex;flex-direction: column;z-index: 1;position: relative;background-color: white;}#sk-container-id-4 div.sk-parallel-item:first-child::after {align-self: flex-end;width: 50%;}#sk-container-id-4 div.sk-parallel-item:last-child::after {align-self: flex-start;width: 50%;}#sk-container-id-4 div.sk-parallel-item:only-child::after {width: 0;}#sk-container-id-4 div.sk-dashed-wrapped {border: 1px dashed gray;margin: 0 0.4em 0.5em 0.4em;box-sizing: border-box;padding-bottom: 0.4em;background-color: white;}#sk-container-id-4 div.sk-label label {font-family: monospace;font-weight: bold;display: inline-block;line-height: 1.2em;}#sk-container-id-4 div.sk-label-container {text-align: center;}#sk-container-id-4 div.sk-container {/* jupyter's `normalize.less` sets `[hidden] { display: none; }` but bootstrap.min.css set `[hidden] { display: none !important; }` so we also need the `!important` here to be able to override the default hidden behavior on the sphinx rendered scikit-learn.org. See: https://github.com/scikit-learn/scikit-learn/issues/21755 */display: inline-block !important;position: relative;}#sk-container-id-4 div.sk-text-repr-fallback {display: none;}</style><div id=\"sk-container-id-4\" class=\"sk-top-container\"><div class=\"sk-text-repr-fallback\"><pre>RFECV(cv=10,\n",
       "      estimator=XGBClassifier(base_score=None, booster=None, callbacks=None,\n",
       "                              colsample_bylevel=None, colsample_bynode=None,\n",
       "                              colsample_bytree=None, device=None,\n",
       "                              early_stopping_rounds=None,\n",
       "                              enable_categorical=False, eval_metric=None,\n",
       "                              feature_types=None, gamma=None, grow_policy=None,\n",
       "                              importance_type=None,\n",
       "                              interaction_constraints=None, learning_rate=0.01,\n",
       "                              max_bin=None, max_cat_threshold=None,\n",
       "                              max_cat_to_onehot=None, max_delta_step=None,\n",
       "                              max_depth=10, max_leaves=None,\n",
       "                              min_child_weight=None, missing=nan,\n",
       "                              monotone_constraints=None, multi_strategy=None,\n",
       "                              n_estimators=100, n_jobs=-1,\n",
       "                              num_parallel_tree=None, random_state=7, ...),\n",
       "      n_jobs=-1, scoring=make_scorer(f1_score), step=200)</pre><b>In a Jupyter environment, please rerun this cell to show the HTML representation or trust the notebook. <br />On GitHub, the HTML representation is unable to render, please try loading this page with nbviewer.org.</b></div><div class=\"sk-container\" hidden><div class=\"sk-item sk-dashed-wrapped\"><div class=\"sk-label-container\"><div class=\"sk-label sk-toggleable\"><input class=\"sk-toggleable__control sk-hidden--visually\" id=\"sk-estimator-id-8\" type=\"checkbox\" ><label for=\"sk-estimator-id-8\" class=\"sk-toggleable__label sk-toggleable__label-arrow\">RFECV</label><div class=\"sk-toggleable__content\"><pre>RFECV(cv=10,\n",
       "      estimator=XGBClassifier(base_score=None, booster=None, callbacks=None,\n",
       "                              colsample_bylevel=None, colsample_bynode=None,\n",
       "                              colsample_bytree=None, device=None,\n",
       "                              early_stopping_rounds=None,\n",
       "                              enable_categorical=False, eval_metric=None,\n",
       "                              feature_types=None, gamma=None, grow_policy=None,\n",
       "                              importance_type=None,\n",
       "                              interaction_constraints=None, learning_rate=0.01,\n",
       "                              max_bin=None, max_cat_threshold=None,\n",
       "                              max_cat_to_onehot=None, max_delta_step=None,\n",
       "                              max_depth=10, max_leaves=None,\n",
       "                              min_child_weight=None, missing=nan,\n",
       "                              monotone_constraints=None, multi_strategy=None,\n",
       "                              n_estimators=100, n_jobs=-1,\n",
       "                              num_parallel_tree=None, random_state=7, ...),\n",
       "      n_jobs=-1, scoring=make_scorer(f1_score), step=200)</pre></div></div></div><div class=\"sk-parallel\"><div class=\"sk-parallel-item\"><div class=\"sk-item\"><div class=\"sk-label-container\"><div class=\"sk-label sk-toggleable\"><input class=\"sk-toggleable__control sk-hidden--visually\" id=\"sk-estimator-id-9\" type=\"checkbox\" ><label for=\"sk-estimator-id-9\" class=\"sk-toggleable__label sk-toggleable__label-arrow\">estimator: XGBClassifier</label><div class=\"sk-toggleable__content\"><pre>XGBClassifier(base_score=None, booster=None, callbacks=None,\n",
       "              colsample_bylevel=None, colsample_bynode=None,\n",
       "              colsample_bytree=None, device=None, early_stopping_rounds=None,\n",
       "              enable_categorical=False, eval_metric=None, feature_types=None,\n",
       "              gamma=None, grow_policy=None, importance_type=None,\n",
       "              interaction_constraints=None, learning_rate=0.01, max_bin=None,\n",
       "              max_cat_threshold=None, max_cat_to_onehot=None,\n",
       "              max_delta_step=None, max_depth=10, max_leaves=None,\n",
       "              min_child_weight=None, missing=nan, monotone_constraints=None,\n",
       "              multi_strategy=None, n_estimators=100, n_jobs=-1,\n",
       "              num_parallel_tree=None, random_state=7, ...)</pre></div></div></div><div class=\"sk-serial\"><div class=\"sk-item\"><div class=\"sk-estimator sk-toggleable\"><input class=\"sk-toggleable__control sk-hidden--visually\" id=\"sk-estimator-id-10\" type=\"checkbox\" ><label for=\"sk-estimator-id-10\" class=\"sk-toggleable__label sk-toggleable__label-arrow\">XGBClassifier</label><div class=\"sk-toggleable__content\"><pre>XGBClassifier(base_score=None, booster=None, callbacks=None,\n",
       "              colsample_bylevel=None, colsample_bynode=None,\n",
       "              colsample_bytree=None, device=None, early_stopping_rounds=None,\n",
       "              enable_categorical=False, eval_metric=None, feature_types=None,\n",
       "              gamma=None, grow_policy=None, importance_type=None,\n",
       "              interaction_constraints=None, learning_rate=0.01, max_bin=None,\n",
       "              max_cat_threshold=None, max_cat_to_onehot=None,\n",
       "              max_delta_step=None, max_depth=10, max_leaves=None,\n",
       "              min_child_weight=None, missing=nan, monotone_constraints=None,\n",
       "              multi_strategy=None, n_estimators=100, n_jobs=-1,\n",
       "              num_parallel_tree=None, random_state=7, ...)</pre></div></div></div></div></div></div></div></div></div></div>"
      ],
      "text/plain": [
       "RFECV(cv=10,\n",
       "      estimator=XGBClassifier(base_score=None, booster=None, callbacks=None,\n",
       "                              colsample_bylevel=None, colsample_bynode=None,\n",
       "                              colsample_bytree=None, device=None,\n",
       "                              early_stopping_rounds=None,\n",
       "                              enable_categorical=False, eval_metric=None,\n",
       "                              feature_types=None, gamma=None, grow_policy=None,\n",
       "                              importance_type=None,\n",
       "                              interaction_constraints=None, learning_rate=0.01,\n",
       "                              max_bin=None, max_cat_threshold=None,\n",
       "                              max_cat_to_onehot=None, max_delta_step=None,\n",
       "                              max_depth=10, max_leaves=None,\n",
       "                              min_child_weight=None, missing=nan,\n",
       "                              monotone_constraints=None, multi_strategy=None,\n",
       "                              n_estimators=100, n_jobs=-1,\n",
       "                              num_parallel_tree=None, random_state=7, ...),\n",
       "      n_jobs=-1, scoring=make_scorer(f1_score), step=200)"
      ]
     },
     "execution_count": 76,
     "metadata": {},
     "output_type": "execute_result"
    }
   ],
   "source": [
    "## Performing Recursive Feature Elimination with Cross Validation\n",
    "metric_tracker = make_scorer(f1_score)\n",
    "rfecv = RFECV(estimator=xgb_classifier, step=200, cv=10, scoring=metric_tracker, n_jobs=-1, min_features_to_select=1)\n",
    "rfecv.fit(X_train_t, y_train)\n"
   ]
  },
  {
   "cell_type": "code",
   "execution_count": 77,
   "metadata": {},
   "outputs": [
    {
     "name": "stdout",
     "output_type": "stream",
     "text": [
      "Optimal number of features : 50\n",
      "Ranking of features:  [ True  True  True  True  True  True  True  True  True  True  True  True\n",
      "  True  True  True  True  True  True  True  True  True  True  True  True\n",
      "  True  True  True  True  True  True  True  True  True  True  True  True\n",
      "  True  True  True  True  True  True  True  True  True  True  True  True\n",
      "  True  True]\n",
      "Ranking of each Features:  [1 1 1 1 1 1 1 1 1 1 1 1 1 1 1 1 1 1 1 1 1 1 1 1 1 1 1 1 1 1 1 1 1 1 1 1 1\n",
      " 1 1 1 1 1 1 1 1 1 1 1 1 1]\n"
     ]
    }
   ],
   "source": [
    "# feature_names = X_train_t.columns\n",
    "# selected_features_boolean = rfecv.support_\n",
    "# selected_features = feature_names[selected_features_boolean]\n",
    "# ranking_features = feature_names[rfecv.ranking_]\n",
    "\n",
    "print(\"Optimal number of features : %d\" % rfecv.n_features_)\n",
    "print(\"Ranking of features: \", rfecv.support_)\n",
    "print(\"Ranking of each Features: \", rfecv.ranking_)"
   ]
  },
  {
   "cell_type": "code",
   "execution_count": 78,
   "metadata": {},
   "outputs": [],
   "source": [
    "# len(selected_features_boolean)"
   ]
  },
  {
   "cell_type": "markdown",
   "metadata": {},
   "source": [
    "#### 3. Creating Dataset and training the model"
   ]
  },
  {
   "cell_type": "code",
   "execution_count": 81,
   "metadata": {},
   "outputs": [],
   "source": [
    "# Create new datasets with selected features\n",
    "X_train_sel = X_train_t[:, rfecv.support_]\n",
    "X_val_sel = X_val_t[:, rfecv.support_]\n",
    "X_test_sel = X_test_t[:, rfecv.support_]"
   ]
  },
  {
   "cell_type": "code",
   "execution_count": 106,
   "metadata": {},
   "outputs": [
    {
     "name": "stdout",
     "output_type": "stream",
     "text": [
      "[0]\tvalidation_0-logloss:0.67752\n",
      "[1]\tvalidation_0-logloss:0.66351\n",
      "[2]\tvalidation_0-logloss:0.65106\n",
      "[3]\tvalidation_0-logloss:0.63978\n",
      "[4]\tvalidation_0-logloss:0.63004\n",
      "[5]\tvalidation_0-logloss:0.62105\n"
     ]
    },
    {
     "name": "stdout",
     "output_type": "stream",
     "text": [
      "[6]\tvalidation_0-logloss:0.61275\n",
      "[7]\tvalidation_0-logloss:0.60609\n",
      "[8]\tvalidation_0-logloss:0.59987\n",
      "[9]\tvalidation_0-logloss:0.59399\n",
      "[10]\tvalidation_0-logloss:0.58891\n",
      "[11]\tvalidation_0-logloss:0.58362\n",
      "[12]\tvalidation_0-logloss:0.57958\n",
      "[13]\tvalidation_0-logloss:0.57683\n",
      "[14]\tvalidation_0-logloss:0.57467\n",
      "[15]\tvalidation_0-logloss:0.57145\n",
      "[16]\tvalidation_0-logloss:0.56802\n",
      "[17]\tvalidation_0-logloss:0.56660\n",
      "[18]\tvalidation_0-logloss:0.56393\n",
      "[19]\tvalidation_0-logloss:0.56249\n",
      "[20]\tvalidation_0-logloss:0.56041\n",
      "[21]\tvalidation_0-logloss:0.55882\n",
      "[22]\tvalidation_0-logloss:0.55734\n",
      "[23]\tvalidation_0-logloss:0.55683\n",
      "[24]\tvalidation_0-logloss:0.55554\n",
      "[25]\tvalidation_0-logloss:0.55474\n",
      "[26]\tvalidation_0-logloss:0.55451\n",
      "[27]\tvalidation_0-logloss:0.55328\n",
      "[28]\tvalidation_0-logloss:0.55279\n",
      "[29]\tvalidation_0-logloss:0.55161\n",
      "[30]\tvalidation_0-logloss:0.55134\n",
      "[31]\tvalidation_0-logloss:0.55147\n",
      "[32]\tvalidation_0-logloss:0.55168\n",
      "[33]\tvalidation_0-logloss:0.55103\n",
      "[34]\tvalidation_0-logloss:0.55071\n",
      "[35]\tvalidation_0-logloss:0.55029\n",
      "[36]\tvalidation_0-logloss:0.55000\n",
      "[37]\tvalidation_0-logloss:0.55042\n",
      "[38]\tvalidation_0-logloss:0.54958\n",
      "[39]\tvalidation_0-logloss:0.55049\n",
      "[40]\tvalidation_0-logloss:0.55076\n",
      "[41]\tvalidation_0-logloss:0.54979\n",
      "[42]\tvalidation_0-logloss:0.55054\n",
      "[43]\tvalidation_0-logloss:0.55078\n",
      "[44]\tvalidation_0-logloss:0.55036\n",
      "[45]\tvalidation_0-logloss:0.55095\n",
      "[46]\tvalidation_0-logloss:0.55101\n",
      "[47]\tvalidation_0-logloss:0.55098\n",
      "[48]\tvalidation_0-logloss:0.55206\n",
      "[49]\tvalidation_0-logloss:0.55175\n",
      "[50]\tvalidation_0-logloss:0.55217\n",
      "[51]\tvalidation_0-logloss:0.55283\n",
      "[52]\tvalidation_0-logloss:0.55358\n",
      "[53]\tvalidation_0-logloss:0.55414\n"
     ]
    },
    {
     "data": {
      "text/html": [
       "<style>#sk-container-id-13 {color: black;background-color: white;}#sk-container-id-13 pre{padding: 0;}#sk-container-id-13 div.sk-toggleable {background-color: white;}#sk-container-id-13 label.sk-toggleable__label {cursor: pointer;display: block;width: 100%;margin-bottom: 0;padding: 0.3em;box-sizing: border-box;text-align: center;}#sk-container-id-13 label.sk-toggleable__label-arrow:before {content: \"▸\";float: left;margin-right: 0.25em;color: #696969;}#sk-container-id-13 label.sk-toggleable__label-arrow:hover:before {color: black;}#sk-container-id-13 div.sk-estimator:hover label.sk-toggleable__label-arrow:before {color: black;}#sk-container-id-13 div.sk-toggleable__content {max-height: 0;max-width: 0;overflow: hidden;text-align: left;background-color: #f0f8ff;}#sk-container-id-13 div.sk-toggleable__content pre {margin: 0.2em;color: black;border-radius: 0.25em;background-color: #f0f8ff;}#sk-container-id-13 input.sk-toggleable__control:checked~div.sk-toggleable__content {max-height: 200px;max-width: 100%;overflow: auto;}#sk-container-id-13 input.sk-toggleable__control:checked~label.sk-toggleable__label-arrow:before {content: \"▾\";}#sk-container-id-13 div.sk-estimator input.sk-toggleable__control:checked~label.sk-toggleable__label {background-color: #d4ebff;}#sk-container-id-13 div.sk-label input.sk-toggleable__control:checked~label.sk-toggleable__label {background-color: #d4ebff;}#sk-container-id-13 input.sk-hidden--visually {border: 0;clip: rect(1px 1px 1px 1px);clip: rect(1px, 1px, 1px, 1px);height: 1px;margin: -1px;overflow: hidden;padding: 0;position: absolute;width: 1px;}#sk-container-id-13 div.sk-estimator {font-family: monospace;background-color: #f0f8ff;border: 1px dotted black;border-radius: 0.25em;box-sizing: border-box;margin-bottom: 0.5em;}#sk-container-id-13 div.sk-estimator:hover {background-color: #d4ebff;}#sk-container-id-13 div.sk-parallel-item::after {content: \"\";width: 100%;border-bottom: 1px solid gray;flex-grow: 1;}#sk-container-id-13 div.sk-label:hover label.sk-toggleable__label {background-color: #d4ebff;}#sk-container-id-13 div.sk-serial::before {content: \"\";position: absolute;border-left: 1px solid gray;box-sizing: border-box;top: 0;bottom: 0;left: 50%;z-index: 0;}#sk-container-id-13 div.sk-serial {display: flex;flex-direction: column;align-items: center;background-color: white;padding-right: 0.2em;padding-left: 0.2em;position: relative;}#sk-container-id-13 div.sk-item {position: relative;z-index: 1;}#sk-container-id-13 div.sk-parallel {display: flex;align-items: stretch;justify-content: center;background-color: white;position: relative;}#sk-container-id-13 div.sk-item::before, #sk-container-id-13 div.sk-parallel-item::before {content: \"\";position: absolute;border-left: 1px solid gray;box-sizing: border-box;top: 0;bottom: 0;left: 50%;z-index: -1;}#sk-container-id-13 div.sk-parallel-item {display: flex;flex-direction: column;z-index: 1;position: relative;background-color: white;}#sk-container-id-13 div.sk-parallel-item:first-child::after {align-self: flex-end;width: 50%;}#sk-container-id-13 div.sk-parallel-item:last-child::after {align-self: flex-start;width: 50%;}#sk-container-id-13 div.sk-parallel-item:only-child::after {width: 0;}#sk-container-id-13 div.sk-dashed-wrapped {border: 1px dashed gray;margin: 0 0.4em 0.5em 0.4em;box-sizing: border-box;padding-bottom: 0.4em;background-color: white;}#sk-container-id-13 div.sk-label label {font-family: monospace;font-weight: bold;display: inline-block;line-height: 1.2em;}#sk-container-id-13 div.sk-label-container {text-align: center;}#sk-container-id-13 div.sk-container {/* jupyter's `normalize.less` sets `[hidden] { display: none; }` but bootstrap.min.css set `[hidden] { display: none !important; }` so we also need the `!important` here to be able to override the default hidden behavior on the sphinx rendered scikit-learn.org. See: https://github.com/scikit-learn/scikit-learn/issues/21755 */display: inline-block !important;position: relative;}#sk-container-id-13 div.sk-text-repr-fallback {display: none;}</style><div id=\"sk-container-id-13\" class=\"sk-top-container\"><div class=\"sk-text-repr-fallback\"><pre>XGBClassifier(base_score=None, booster=None, callbacks=None,\n",
       "              colsample_bylevel=None, colsample_bynode=None,\n",
       "              colsample_bytree=None, device=None, early_stopping_rounds=15,\n",
       "              enable_categorical=False, eval_metric=None, feature_types=None,\n",
       "              gamma=None, grow_policy=None, importance_type=None,\n",
       "              interaction_constraints=None, learning_rate=0.05, max_bin=None,\n",
       "              max_cat_threshold=None, max_cat_to_onehot=None,\n",
       "              max_delta_step=None, max_depth=10, max_leaves=None,\n",
       "              min_child_weight=None, missing=nan, monotone_constraints=None,\n",
       "              multi_strategy=None, n_estimators=500, n_jobs=-1,\n",
       "              num_parallel_tree=None, random_state=7, ...)</pre><b>In a Jupyter environment, please rerun this cell to show the HTML representation or trust the notebook. <br />On GitHub, the HTML representation is unable to render, please try loading this page with nbviewer.org.</b></div><div class=\"sk-container\" hidden><div class=\"sk-item\"><div class=\"sk-estimator sk-toggleable\"><input class=\"sk-toggleable__control sk-hidden--visually\" id=\"sk-estimator-id-19\" type=\"checkbox\" checked><label for=\"sk-estimator-id-19\" class=\"sk-toggleable__label sk-toggleable__label-arrow\">XGBClassifier</label><div class=\"sk-toggleable__content\"><pre>XGBClassifier(base_score=None, booster=None, callbacks=None,\n",
       "              colsample_bylevel=None, colsample_bynode=None,\n",
       "              colsample_bytree=None, device=None, early_stopping_rounds=15,\n",
       "              enable_categorical=False, eval_metric=None, feature_types=None,\n",
       "              gamma=None, grow_policy=None, importance_type=None,\n",
       "              interaction_constraints=None, learning_rate=0.05, max_bin=None,\n",
       "              max_cat_threshold=None, max_cat_to_onehot=None,\n",
       "              max_delta_step=None, max_depth=10, max_leaves=None,\n",
       "              min_child_weight=None, missing=nan, monotone_constraints=None,\n",
       "              multi_strategy=None, n_estimators=500, n_jobs=-1,\n",
       "              num_parallel_tree=None, random_state=7, ...)</pre></div></div></div></div></div>"
      ],
      "text/plain": [
       "XGBClassifier(base_score=None, booster=None, callbacks=None,\n",
       "              colsample_bylevel=None, colsample_bynode=None,\n",
       "              colsample_bytree=None, device=None, early_stopping_rounds=15,\n",
       "              enable_categorical=False, eval_metric=None, feature_types=None,\n",
       "              gamma=None, grow_policy=None, importance_type=None,\n",
       "              interaction_constraints=None, learning_rate=0.05, max_bin=None,\n",
       "              max_cat_threshold=None, max_cat_to_onehot=None,\n",
       "              max_delta_step=None, max_depth=10, max_leaves=None,\n",
       "              min_child_weight=None, missing=nan, monotone_constraints=None,\n",
       "              multi_strategy=None, n_estimators=500, n_jobs=-1,\n",
       "              num_parallel_tree=None, random_state=7, ...)"
      ]
     },
     "execution_count": 106,
     "metadata": {},
     "output_type": "execute_result"
    }
   ],
   "source": [
    "# Train the XGBoost model with selected features\n",
    "xgb_model_sel = XGBClassifier(scale_pos_weight=scale_pos_weight, \n",
    "                               random_state=7,\n",
    "                                n_estimators=500, \n",
    "                                max_depth=10,\n",
    "                                learning_rate=0.05,\n",
    "                                 early_stopping_rounds=15,\n",
    "                                 n_jobs=-1)\n",
    "xgb_model_sel.fit(X_train_sel, y_train, eval_set=[(X_val_sel, y_val)])"
   ]
  },
  {
   "cell_type": "code",
   "execution_count": 107,
   "metadata": {},
   "outputs": [],
   "source": [
    "# Validate the model\n",
    "y_val_pred = xgb_model_sel.predict(X_val_sel)"
   ]
  },
  {
   "cell_type": "markdown",
   "metadata": {},
   "source": [
    "##### Model Performance: Classification with Downsampling and n_estimators = 500 and early stopping rounds = 15"
   ]
  },
  {
   "cell_type": "code",
   "execution_count": 108,
   "metadata": {},
   "outputs": [
    {
     "name": "stdout",
     "output_type": "stream",
     "text": [
      "              precision    recall  f1-score   support\n",
      "\n",
      "           0       0.98      0.68      0.80      2269\n",
      "           1       0.11      0.75      0.19       119\n",
      "\n",
      "    accuracy                           0.68      2388\n",
      "   macro avg       0.54      0.71      0.50      2388\n",
      "weighted avg       0.94      0.68      0.77      2388\n",
      "\n"
     ]
    }
   ],
   "source": [
    "print(classification_report(y_val, y_val_pred))"
   ]
  },
  {
   "cell_type": "markdown",
   "metadata": {},
   "source": [
    "#### Saving the model"
   ]
  },
  {
   "cell_type": "code",
   "execution_count": 110,
   "metadata": {},
   "outputs": [
    {
     "data": {
      "text/plain": [
       "['../models/xgboost_donor_model.joblib']"
      ]
     },
     "execution_count": 110,
     "metadata": {},
     "output_type": "execute_result"
    }
   ],
   "source": [
    "import joblib\n",
    "import os\n",
    "\n",
    "## Save the trained model to a file\n",
    "model_filename = \"../models/xgboost_donor_model.joblib\"\n",
    "joblib.dump(xgb_model_sel, model_filename)"
   ]
  },
  {
   "cell_type": "markdown",
   "metadata": {},
   "source": [
    "# Performance of other models that were tried\n",
    "\n",
    "##### Classification with Downsampling and n_estimators = 500 and early stopping rounds = 15"
   ]
  },
  {
   "cell_type": "code",
   "execution_count": 89,
   "metadata": {},
   "outputs": [
    {
     "name": "stdout",
     "output_type": "stream",
     "text": [
      "              precision    recall  f1-score   support\n",
      "\n",
      "           0       0.98      0.68      0.80      2269\n",
      "           1       0.11      0.74      0.19       119\n",
      "\n",
      "    accuracy                           0.68      2388\n",
      "   macro avg       0.54      0.71      0.49      2388\n",
      "weighted avg       0.94      0.68      0.77      2388\n",
      "\n"
     ]
    }
   ],
   "source": [
    "print(classification_report(y_val, y_val_pred))"
   ]
  },
  {
   "cell_type": "markdown",
   "metadata": {},
   "source": [
    "##### Classification with Downsampling and n_estimators = 100"
   ]
  },
  {
   "cell_type": "code",
   "execution_count": 84,
   "metadata": {},
   "outputs": [
    {
     "name": "stdout",
     "output_type": "stream",
     "text": [
      "              precision    recall  f1-score   support\n",
      "\n",
      "           0       0.98      0.67      0.79      2269\n",
      "           1       0.10      0.74      0.18       119\n",
      "\n",
      "    accuracy                           0.67      2388\n",
      "   macro avg       0.54      0.70      0.49      2388\n",
      "weighted avg       0.94      0.67      0.76      2388\n",
      "\n"
     ]
    }
   ],
   "source": [
    "### Classification with Downsampling\n",
    "print(classification_report(y_val, y_val_pred))"
   ]
  },
  {
   "cell_type": "code",
   "execution_count": 85,
   "metadata": {},
   "outputs": [
    {
     "data": {
      "text/plain": [
       "array([[1510,  759],\n",
       "       [  31,   88]], dtype=int64)"
      ]
     },
     "execution_count": 85,
     "metadata": {},
     "output_type": "execute_result"
    }
   ],
   "source": [
    "confusion_matrix(y_val, y_val_pred)"
   ]
  },
  {
   "cell_type": "markdown",
   "metadata": {},
   "source": [
    "##### Classification with Smot"
   ]
  },
  {
   "cell_type": "code",
   "execution_count": 23,
   "metadata": {},
   "outputs": [
    {
     "name": "stdout",
     "output_type": "stream",
     "text": [
      "              precision    recall  f1-score   support\n",
      "\n",
      "           0       0.96      0.91      0.94      2269\n",
      "           1       0.13      0.24      0.17       119\n",
      "\n",
      "    accuracy                           0.88      2388\n",
      "   macro avg       0.54      0.58      0.55      2388\n",
      "weighted avg       0.92      0.88      0.90      2388\n",
      "\n"
     ]
    }
   ],
   "source": [
    "### Classification with Smot\n",
    "print(classification_report(y_val, y_val_pred))"
   ]
  },
  {
   "cell_type": "code",
   "execution_count": 24,
   "metadata": {},
   "outputs": [
    {
     "data": {
      "text/plain": [
       "array([[2073,  196],\n",
       "       [  90,   29]], dtype=int64)"
      ]
     },
     "execution_count": 24,
     "metadata": {},
     "output_type": "execute_result"
    }
   ],
   "source": [
    "confusion_matrix(y_val, y_val_pred)"
   ]
  },
  {
   "cell_type": "markdown",
   "metadata": {},
   "source": [
    "# Evaluating the model on unseen data"
   ]
  },
  {
   "cell_type": "code",
   "execution_count": 109,
   "metadata": {},
   "outputs": [
    {
     "name": "stdout",
     "output_type": "stream",
     "text": [
      "Test Classification Report:\n",
      "               precision    recall  f1-score   support\n",
      "\n",
      "           0       0.98      0.69      0.81      3782\n",
      "           1       0.12      0.79      0.20       197\n",
      "\n",
      "    accuracy                           0.69      3979\n",
      "   macro avg       0.55      0.74      0.51      3979\n",
      "weighted avg       0.94      0.69      0.78      3979\n",
      "\n",
      "Test Confusion Matrix:\n",
      " [[2600 1182]\n",
      " [  42  155]]\n"
     ]
    }
   ],
   "source": [
    "# Evaluate the model on the unseen test set\n",
    "y_test_pred = xgb_model_sel.predict(X_test_sel)\n",
    "test_report = classification_report(y_test, y_test_pred)\n",
    "test_confusion_matrix = confusion_matrix(y_test, y_test_pred)\n",
    "\n",
    "print(\"Test Classification Report:\\n\", test_report)\n",
    "print(\"Test Confusion Matrix:\\n\", test_confusion_matrix)"
   ]
  },
  {
   "cell_type": "markdown",
   "metadata": {},
   "source": [
    "# Conclusion:\n",
    "\n",
    "1. Metric used:\n",
    "\n",
    "    From the dataset, we observed that only about 5% of the individuals are donors. To ensure that our mailing campaign effectively reaches these potential donors, I prioritized recall as our primary evaluation metric.\n",
    "\n",
    "\n",
    "2. Model Performance:\n",
    "\n",
    "    The model was trained with a focus on increasing recall. On an unseen dataset, the model achieved a recall of 79% for the donor class. This means that the model successfully identified 79% of the actual donors.\n",
    "    The model also demonstrated a high precision of 98% for the non-donor class, effectively rejecting non-donors while capturing the majority of donors.\n",
    "\n",
    "3. Trade-off Between Precision and Recall:\n",
    "\n",
    "    While there is a trade-off with precision for the donor class (12%), the model's ability to capture the majority of actual donors (recall of 79%) makes it a valuable tool for enhancing our donor targeting strategy.\n",
    "    This trade-off can be acceptable given the critical need to maximize donor engagement and increase donations. By capturing a higher percentage of potential donors, we can significantly enhance the effectiveness of our mailing campaigns."
   ]
  },
  {
   "cell_type": "code",
   "execution_count": null,
   "metadata": {},
   "outputs": [],
   "source": []
  }
 ],
 "metadata": {
  "kernelspec": {
   "display_name": "base",
   "language": "python",
   "name": "python3"
  },
  "language_info": {
   "codemirror_mode": {
    "name": "ipython",
    "version": 3
   },
   "file_extension": ".py",
   "mimetype": "text/x-python",
   "name": "python",
   "nbconvert_exporter": "python",
   "pygments_lexer": "ipython3",
   "version": "3.8.8"
  }
 },
 "nbformat": 4,
 "nbformat_minor": 2
}
