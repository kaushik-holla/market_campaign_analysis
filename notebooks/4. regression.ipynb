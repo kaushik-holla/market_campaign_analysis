{
 "cells": [
  {
   "cell_type": "code",
   "execution_count": 11,
   "metadata": {},
   "outputs": [],
   "source": [
    "## Importing Libraries\n",
    "import pandas as pd\n",
    "\n",
    "## XGBoost model\n",
    "from xgboost import XGBClassifier\n",
    "from xgboost import XGBRegressor\n",
    "from imblearn.over_sampling import SMOTE\n",
    "\n",
    "## SKLearn libraries\n",
    "from sklearn.model_selection import train_test_split\n",
    "from sklearn.compose import ColumnTransformer\n",
    "from sklearn.utils import resample\n",
    "from sklearn.metrics import classification_report, confusion_matrix, make_scorer, f1_score, mean_squared_error, r2_score\n",
    "from sklearn.feature_selection import RFECV\n",
    "from sklearn.preprocessing import OneHotEncoder, StandardScaler\n"
   ]
  },
  {
   "cell_type": "markdown",
   "metadata": {},
   "source": [
    "## Ideation and Approach: \n",
    "\n",
    "1. I will be considering only those who donated and based on the donation, I will be estimating the expected revenue.\n",
    "2. I will be using the XGBoost model to predict the donation amount for 6, 12, 18 and 24 months.\n",
    "3. Will be building different XGBoost models to predict revenue for different months"
   ]
  },
  {
   "cell_type": "markdown",
   "metadata": {},
   "source": [
    "#### 1. Loading and validating the data"
   ]
  },
  {
   "cell_type": "code",
   "execution_count": 2,
   "metadata": {},
   "outputs": [],
   "source": [
    "donor_df = pd.read_csv('../Data/cleaned_data/data_for_modeling.csv')\n",
    "donor_df = donor_df[donor_df['donated'] == 1]"
   ]
  },
  {
   "cell_type": "code",
   "execution_count": 3,
   "metadata": {},
   "outputs": [
    {
     "data": {
      "text/plain": [
       "(987, 30)"
      ]
     },
     "execution_count": 3,
     "metadata": {},
     "output_type": "execute_result"
    }
   ],
   "source": [
    "donor_df.shape"
   ]
  },
  {
   "cell_type": "code",
   "execution_count": 4,
   "metadata": {},
   "outputs": [
    {
     "data": {
      "text/plain": [
       "Index(['TARGET_B', 'TARGET_D6', 'TARGET_D12', 'TARGET_D18', 'TARGET_D24',\n",
       "       'CONTROL_NUMBER', 'MONTHS_SINCE_ORIGIN', 'NUMBER_OF_RESP', 'DONOR_AGE',\n",
       "       'IN_HOUSE', 'URBANICITY', 'CLUSTER_CODE', 'HOME_OWNER', 'DONOR_GENDER',\n",
       "       'INCOME_GROUP', 'PUBLISHED_PHONE', 'WEALTH_RATING', 'MEDIAN_HOME_VALUE',\n",
       "       'MEDIAN_HOUSEHOLD_INCOME', 'PCT_OWNER_OCCUPIED', 'PEP_STAR',\n",
       "       'RECENT_STAR_STATUS', 'RECENCY_FREQ_STATUS',\n",
       "       'RECENT_CARD_RESPONSE_PROP', 'MONTHS_SINCE_LAST_PROM_RESP',\n",
       "       'LAST_GIFT_AMT', 'NUMBER_PROM_12', 'MONTHS_SINCE_LAST_GIFT',\n",
       "       'MONTHS_SINCE_FIRST_GIFT', 'donated'],\n",
       "      dtype='object')"
      ]
     },
     "execution_count": 4,
     "metadata": {},
     "output_type": "execute_result"
    }
   ],
   "source": [
    "donor_df.columns"
   ]
  },
  {
   "cell_type": "markdown",
   "metadata": {},
   "source": [
    "#### 2. Making the dataset for the model"
   ]
  },
  {
   "cell_type": "code",
   "execution_count": 6,
   "metadata": {},
   "outputs": [],
   "source": [
    "X = donor_df.drop(columns=['TARGET_B', 'TARGET_D6', 'TARGET_D12', 'TARGET_D18', 'TARGET_D24', 'donated'])\n",
    "y_6 = donor_df['TARGET_D6']\n",
    "y_12 = donor_df['TARGET_D12']\n",
    "y_18 = donor_df['TARGET_D18']\n",
    "y_24 = donor_df['TARGET_D24']"
   ]
  },
  {
   "cell_type": "markdown",
   "metadata": {},
   "source": [
    "#### Processing the data"
   ]
  },
  {
   "cell_type": "code",
   "execution_count": 8,
   "metadata": {},
   "outputs": [],
   "source": [
    "# Split the data into training+validation and test sets (80-20 split)\n",
    "X_train_val, X_test, y_train_val_6, y_test_6 = train_test_split(X, y_6, test_size=0.2, random_state=7)\n",
    "_, _, y_train_val_12, y_test_12 = train_test_split(X, y_12, test_size=0.2, random_state=7)\n",
    "_, _, y_train_val_18, y_test_18 = train_test_split(X, y_18, test_size=0.2, random_state=7)\n",
    "_, _, y_train_val_24, y_test_24 = train_test_split(X, y_24, test_size=0.2, random_state=7)\n",
    "\n",
    "# Split the training+validation set into training and validation sets (75-25 split)\n",
    "X_train, X_val, y_train_6, y_val_6 = train_test_split(X_train_val, y_train_val_6, test_size=0.15, random_state=7)\n",
    "_, _, y_train_12, y_val_12 = train_test_split(X_train_val, y_train_val_12, test_size=0.15, random_state=7)\n",
    "_, _, y_train_18, y_val_18 = train_test_split(X_train_val, y_train_val_18, test_size=0.15, random_state=7)\n",
    "_, _, y_train_24, y_val_24 = train_test_split(X_train_val, y_train_val_24, test_size=0.15, random_state=7)"
   ]
  },
  {
   "cell_type": "code",
   "execution_count": 10,
   "metadata": {},
   "outputs": [
    {
     "name": "stderr",
     "output_type": "stream",
     "text": [
      "d:\\anaconda3\\lib\\site-packages\\sklearn\\preprocessing\\_encoders.py:188: UserWarning: Found unknown categories in columns [3] during transform. These unknown categories will be encoded as all zeros\n",
      "  warnings.warn(\n"
     ]
    }
   ],
   "source": [
    "## Selecting categorical and numerical features to use in the pipeline\n",
    "cat_to_transform = X_train.select_dtypes(include=['object']).columns\n",
    "numerical_features = X_train.select_dtypes(include=['int64', 'float64']).columns \n",
    "\n",
    "## Defining the pipeline\n",
    "# Scaling numerical features and encoding categorical features\n",
    "\n",
    "preprocessor = ColumnTransformer(\n",
    "    transformers = [\n",
    "        ('numerical', StandardScaler(), numerical_features),\n",
    "        ('categorical', OneHotEncoder(drop='first', handle_unknown='ignore'), cat_to_transform)\n",
    "    ]\n",
    ")\n",
    "\n",
    "# Apply the transformations to the training, validation, and test sets\n",
    "X_train_transformed = preprocessor.fit_transform(X_train)\n",
    "X_val_transformed = preprocessor.transform(X_val)\n",
    "X_test_transformed = preprocessor.transform(X_test)"
   ]
  },
  {
   "cell_type": "markdown",
   "metadata": {},
   "source": [
    "#### Training the model"
   ]
  },
  {
   "cell_type": "code",
   "execution_count": 16,
   "metadata": {},
   "outputs": [
    {
     "data": {
      "text/html": [
       "<style>#sk-container-id-2 {color: black;background-color: white;}#sk-container-id-2 pre{padding: 0;}#sk-container-id-2 div.sk-toggleable {background-color: white;}#sk-container-id-2 label.sk-toggleable__label {cursor: pointer;display: block;width: 100%;margin-bottom: 0;padding: 0.3em;box-sizing: border-box;text-align: center;}#sk-container-id-2 label.sk-toggleable__label-arrow:before {content: \"▸\";float: left;margin-right: 0.25em;color: #696969;}#sk-container-id-2 label.sk-toggleable__label-arrow:hover:before {color: black;}#sk-container-id-2 div.sk-estimator:hover label.sk-toggleable__label-arrow:before {color: black;}#sk-container-id-2 div.sk-toggleable__content {max-height: 0;max-width: 0;overflow: hidden;text-align: left;background-color: #f0f8ff;}#sk-container-id-2 div.sk-toggleable__content pre {margin: 0.2em;color: black;border-radius: 0.25em;background-color: #f0f8ff;}#sk-container-id-2 input.sk-toggleable__control:checked~div.sk-toggleable__content {max-height: 200px;max-width: 100%;overflow: auto;}#sk-container-id-2 input.sk-toggleable__control:checked~label.sk-toggleable__label-arrow:before {content: \"▾\";}#sk-container-id-2 div.sk-estimator input.sk-toggleable__control:checked~label.sk-toggleable__label {background-color: #d4ebff;}#sk-container-id-2 div.sk-label input.sk-toggleable__control:checked~label.sk-toggleable__label {background-color: #d4ebff;}#sk-container-id-2 input.sk-hidden--visually {border: 0;clip: rect(1px 1px 1px 1px);clip: rect(1px, 1px, 1px, 1px);height: 1px;margin: -1px;overflow: hidden;padding: 0;position: absolute;width: 1px;}#sk-container-id-2 div.sk-estimator {font-family: monospace;background-color: #f0f8ff;border: 1px dotted black;border-radius: 0.25em;box-sizing: border-box;margin-bottom: 0.5em;}#sk-container-id-2 div.sk-estimator:hover {background-color: #d4ebff;}#sk-container-id-2 div.sk-parallel-item::after {content: \"\";width: 100%;border-bottom: 1px solid gray;flex-grow: 1;}#sk-container-id-2 div.sk-label:hover label.sk-toggleable__label {background-color: #d4ebff;}#sk-container-id-2 div.sk-serial::before {content: \"\";position: absolute;border-left: 1px solid gray;box-sizing: border-box;top: 0;bottom: 0;left: 50%;z-index: 0;}#sk-container-id-2 div.sk-serial {display: flex;flex-direction: column;align-items: center;background-color: white;padding-right: 0.2em;padding-left: 0.2em;position: relative;}#sk-container-id-2 div.sk-item {position: relative;z-index: 1;}#sk-container-id-2 div.sk-parallel {display: flex;align-items: stretch;justify-content: center;background-color: white;position: relative;}#sk-container-id-2 div.sk-item::before, #sk-container-id-2 div.sk-parallel-item::before {content: \"\";position: absolute;border-left: 1px solid gray;box-sizing: border-box;top: 0;bottom: 0;left: 50%;z-index: -1;}#sk-container-id-2 div.sk-parallel-item {display: flex;flex-direction: column;z-index: 1;position: relative;background-color: white;}#sk-container-id-2 div.sk-parallel-item:first-child::after {align-self: flex-end;width: 50%;}#sk-container-id-2 div.sk-parallel-item:last-child::after {align-self: flex-start;width: 50%;}#sk-container-id-2 div.sk-parallel-item:only-child::after {width: 0;}#sk-container-id-2 div.sk-dashed-wrapped {border: 1px dashed gray;margin: 0 0.4em 0.5em 0.4em;box-sizing: border-box;padding-bottom: 0.4em;background-color: white;}#sk-container-id-2 div.sk-label label {font-family: monospace;font-weight: bold;display: inline-block;line-height: 1.2em;}#sk-container-id-2 div.sk-label-container {text-align: center;}#sk-container-id-2 div.sk-container {/* jupyter's `normalize.less` sets `[hidden] { display: none; }` but bootstrap.min.css set `[hidden] { display: none !important; }` so we also need the `!important` here to be able to override the default hidden behavior on the sphinx rendered scikit-learn.org. See: https://github.com/scikit-learn/scikit-learn/issues/21755 */display: inline-block !important;position: relative;}#sk-container-id-2 div.sk-text-repr-fallback {display: none;}</style><div id=\"sk-container-id-2\" class=\"sk-top-container\"><div class=\"sk-text-repr-fallback\"><pre>XGBRegressor(base_score=None, booster=None, callbacks=None,\n",
       "             colsample_bylevel=None, colsample_bynode=None,\n",
       "             colsample_bytree=None, device=None, early_stopping_rounds=None,\n",
       "             enable_categorical=False, eval_metric=None, feature_types=None,\n",
       "             gamma=None, grow_policy=None, importance_type=None,\n",
       "             interaction_constraints=None, learning_rate=0.05, max_bin=None,\n",
       "             max_cat_threshold=None, max_cat_to_onehot=None,\n",
       "             max_delta_step=None, max_depth=15, max_leaves=None,\n",
       "             min_child_weight=None, missing=nan, monotone_constraints=None,\n",
       "             multi_strategy=None, n_estimators=500, n_jobs=-1,\n",
       "             num_parallel_tree=None, random_state=7, ...)</pre><b>In a Jupyter environment, please rerun this cell to show the HTML representation or trust the notebook. <br />On GitHub, the HTML representation is unable to render, please try loading this page with nbviewer.org.</b></div><div class=\"sk-container\" hidden><div class=\"sk-item\"><div class=\"sk-estimator sk-toggleable\"><input class=\"sk-toggleable__control sk-hidden--visually\" id=\"sk-estimator-id-2\" type=\"checkbox\" checked><label for=\"sk-estimator-id-2\" class=\"sk-toggleable__label sk-toggleable__label-arrow\">XGBRegressor</label><div class=\"sk-toggleable__content\"><pre>XGBRegressor(base_score=None, booster=None, callbacks=None,\n",
       "             colsample_bylevel=None, colsample_bynode=None,\n",
       "             colsample_bytree=None, device=None, early_stopping_rounds=None,\n",
       "             enable_categorical=False, eval_metric=None, feature_types=None,\n",
       "             gamma=None, grow_policy=None, importance_type=None,\n",
       "             interaction_constraints=None, learning_rate=0.05, max_bin=None,\n",
       "             max_cat_threshold=None, max_cat_to_onehot=None,\n",
       "             max_delta_step=None, max_depth=15, max_leaves=None,\n",
       "             min_child_weight=None, missing=nan, monotone_constraints=None,\n",
       "             multi_strategy=None, n_estimators=500, n_jobs=-1,\n",
       "             num_parallel_tree=None, random_state=7, ...)</pre></div></div></div></div></div>"
      ],
      "text/plain": [
       "XGBRegressor(base_score=None, booster=None, callbacks=None,\n",
       "             colsample_bylevel=None, colsample_bynode=None,\n",
       "             colsample_bytree=None, device=None, early_stopping_rounds=None,\n",
       "             enable_categorical=False, eval_metric=None, feature_types=None,\n",
       "             gamma=None, grow_policy=None, importance_type=None,\n",
       "             interaction_constraints=None, learning_rate=0.05, max_bin=None,\n",
       "             max_cat_threshold=None, max_cat_to_onehot=None,\n",
       "             max_delta_step=None, max_depth=15, max_leaves=None,\n",
       "             min_child_weight=None, missing=nan, monotone_constraints=None,\n",
       "             multi_strategy=None, n_estimators=500, n_jobs=-1,\n",
       "             num_parallel_tree=None, random_state=7, ...)"
      ]
     },
     "execution_count": 16,
     "metadata": {},
     "output_type": "execute_result"
    }
   ],
   "source": [
    "# Train a regression model for each time period\n",
    "xgb_model_6 = XGBRegressor(n_estimators=500, \n",
    "                                max_depth=15,\n",
    "                                learning_rate=0.05,\n",
    "                                 n_jobs=-1,\n",
    "                                 random_state=7)\n",
    "xgb_model_6.fit(X_train_transformed, y_train_6)\n",
    "\n",
    "xgb_model_12 = XGBRegressor(n_estimators=500, \n",
    "                                max_depth=15,\n",
    "                                learning_rate=0.05,\n",
    "                                 n_jobs=-1,\n",
    "                                 random_state=7)\n",
    "xgb_model_12.fit(X_train_transformed, y_train_12)\n",
    "\n",
    "xgb_model_18 = XGBRegressor(n_estimators=500, \n",
    "                                max_depth=15,\n",
    "                                learning_rate=0.05,\n",
    "                                 n_jobs=-1,\n",
    "                                 random_state=7)\n",
    "xgb_model_18.fit(X_train_transformed, y_train_18)\n",
    "\n",
    "xgb_model_24 = XGBRegressor(n_estimators=500, \n",
    "                                max_depth=15,\n",
    "                                learning_rate=0.05,\n",
    "                                 n_jobs=-1,\n",
    "                                 random_state=7)\n",
    "xgb_model_24.fit(X_train_transformed, y_train_24)"
   ]
  },
  {
   "cell_type": "markdown",
   "metadata": {},
   "source": [
    "##### Model Evaluation"
   ]
  },
  {
   "cell_type": "code",
   "execution_count": 17,
   "metadata": {},
   "outputs": [],
   "source": [
    "def evaluate_model(model, X_test, y_test):\n",
    "    y_pred = model.predict(X_test)\n",
    "    mse = mean_squared_error(y_test, y_pred)\n",
    "    r2 = r2_score(y_test, y_pred)\n",
    "    return mse, r2"
   ]
  },
  {
   "cell_type": "code",
   "execution_count": 18,
   "metadata": {},
   "outputs": [
    {
     "name": "stdout",
     "output_type": "stream",
     "text": [
      "6-months: MSE = 157799.96906646877, R2 = -0.30142331260039\n",
      "12-months: MSE = 1274562.6688466398, R2 = -0.12804561817273719\n",
      "18-months: MSE = 2958108.4606587244, R2 = -0.2996013075000741\n",
      "24-months: MSE = 2821463.0745740645, R2 = -0.008328069304253782\n"
     ]
    }
   ],
   "source": [
    "# Evaluate each model\n",
    "mse_6, r2_6 = evaluate_model(xgb_model_6, X_val_transformed, y_val_6)\n",
    "mse_12, r2_12 = evaluate_model(xgb_model_12, X_val_transformed, y_val_12)\n",
    "mse_18, r2_18 = evaluate_model(xgb_model_18, X_val_transformed, y_val_18)\n",
    "mse_24, r2_24 = evaluate_model(xgb_model_24, X_val_transformed, y_val_24)\n",
    "\n",
    "print(f\"6-months: MSE = {mse_6}, R2 = {r2_6}\")\n",
    "print(f\"12-months: MSE = {mse_12}, R2 = {r2_12}\")\n",
    "print(f\"18-months: MSE = {mse_18}, R2 = {r2_18}\")\n",
    "print(f\"24-months: MSE = {mse_24}, R2 = {r2_24}\")"
   ]
  },
  {
   "cell_type": "markdown",
   "metadata": {},
   "source": [
    "#### Evaluating model on Unseen data"
   ]
  },
  {
   "cell_type": "code",
   "execution_count": 19,
   "metadata": {},
   "outputs": [
    {
     "data": {
      "text/html": [
       "<div>\n",
       "<style scoped>\n",
       "    .dataframe tbody tr th:only-of-type {\n",
       "        vertical-align: middle;\n",
       "    }\n",
       "\n",
       "    .dataframe tbody tr th {\n",
       "        vertical-align: top;\n",
       "    }\n",
       "\n",
       "    .dataframe thead th {\n",
       "        text-align: right;\n",
       "    }\n",
       "</style>\n",
       "<table border=\"1\" class=\"dataframe\">\n",
       "  <thead>\n",
       "    <tr style=\"text-align: right;\">\n",
       "      <th></th>\n",
       "      <th>Actual_6_months</th>\n",
       "      <th>Predicted_6_months</th>\n",
       "      <th>Actual_12_months</th>\n",
       "      <th>Predicted_12_months</th>\n",
       "      <th>Actual_18_months</th>\n",
       "      <th>Predicted_18_months</th>\n",
       "      <th>Actual_24_months</th>\n",
       "      <th>Predicted_24_months</th>\n",
       "    </tr>\n",
       "  </thead>\n",
       "  <tbody>\n",
       "    <tr>\n",
       "      <th>19314</th>\n",
       "      <td>150.0</td>\n",
       "      <td>287.095978</td>\n",
       "      <td>700.0</td>\n",
       "      <td>947.118896</td>\n",
       "      <td>1250.0</td>\n",
       "      <td>1160.505981</td>\n",
       "      <td>1550.00</td>\n",
       "      <td>2092.333252</td>\n",
       "    </tr>\n",
       "    <tr>\n",
       "      <th>16895</th>\n",
       "      <td>241.5</td>\n",
       "      <td>184.412216</td>\n",
       "      <td>1368.5</td>\n",
       "      <td>908.324829</td>\n",
       "      <td>2254.0</td>\n",
       "      <td>907.931702</td>\n",
       "      <td>2334.50</td>\n",
       "      <td>1732.090942</td>\n",
       "    </tr>\n",
       "    <tr>\n",
       "      <th>16954</th>\n",
       "      <td>30.0</td>\n",
       "      <td>348.921661</td>\n",
       "      <td>150.0</td>\n",
       "      <td>966.011536</td>\n",
       "      <td>270.0</td>\n",
       "      <td>1200.976318</td>\n",
       "      <td>290.00</td>\n",
       "      <td>2078.562988</td>\n",
       "    </tr>\n",
       "    <tr>\n",
       "      <th>19606</th>\n",
       "      <td>243.0</td>\n",
       "      <td>511.125458</td>\n",
       "      <td>660.9</td>\n",
       "      <td>931.696045</td>\n",
       "      <td>911.3</td>\n",
       "      <td>958.272644</td>\n",
       "      <td>1074.09</td>\n",
       "      <td>1366.987183</td>\n",
       "    </tr>\n",
       "    <tr>\n",
       "      <th>16724</th>\n",
       "      <td>50.0</td>\n",
       "      <td>396.565155</td>\n",
       "      <td>325.0</td>\n",
       "      <td>1274.235107</td>\n",
       "      <td>600.0</td>\n",
       "      <td>1659.787964</td>\n",
       "      <td>655.00</td>\n",
       "      <td>1925.692749</td>\n",
       "    </tr>\n",
       "  </tbody>\n",
       "</table>\n",
       "</div>"
      ],
      "text/plain": [
       "       Actual_6_months  Predicted_6_months  Actual_12_months  \\\n",
       "19314            150.0          287.095978             700.0   \n",
       "16895            241.5          184.412216            1368.5   \n",
       "16954             30.0          348.921661             150.0   \n",
       "19606            243.0          511.125458             660.9   \n",
       "16724             50.0          396.565155             325.0   \n",
       "\n",
       "       Predicted_12_months  Actual_18_months  Predicted_18_months  \\\n",
       "19314           947.118896            1250.0          1160.505981   \n",
       "16895           908.324829            2254.0           907.931702   \n",
       "16954           966.011536             270.0          1200.976318   \n",
       "19606           931.696045             911.3           958.272644   \n",
       "16724          1274.235107             600.0          1659.787964   \n",
       "\n",
       "       Actual_24_months  Predicted_24_months  \n",
       "19314           1550.00          2092.333252  \n",
       "16895           2334.50          1732.090942  \n",
       "16954            290.00          2078.562988  \n",
       "19606           1074.09          1366.987183  \n",
       "16724            655.00          1925.692749  "
      ]
     },
     "execution_count": 19,
     "metadata": {},
     "output_type": "execute_result"
    }
   ],
   "source": [
    "# Make predictions for future revenue on the test set\n",
    "y_pred_6 = xgb_model_6.predict(X_test_transformed)\n",
    "y_pred_12 = xgb_model_12.predict(X_test_transformed)\n",
    "y_pred_18 = xgb_model_18.predict(X_test_transformed)\n",
    "y_pred_24 = xgb_model_24.predict(X_test_transformed)\n",
    "\n",
    "# Create a DataFrame to hold the predictions\n",
    "predictions = pd.DataFrame({\n",
    "    'Actual_6_months': y_test_6,\n",
    "    'Predicted_6_months': y_pred_6,\n",
    "    'Actual_12_months': y_test_12,\n",
    "    'Predicted_12_months': y_pred_12,\n",
    "    'Actual_18_months': y_test_18,\n",
    "    'Predicted_18_months': y_pred_18,\n",
    "    'Actual_24_months': y_test_24,\n",
    "    'Predicted_24_months': y_pred_24\n",
    "})\n",
    "\n",
    "# Display the predictions\n",
    "predictions.head()"
   ]
  },
  {
   "cell_type": "code",
   "execution_count": null,
   "metadata": {},
   "outputs": [],
   "source": []
  }
 ],
 "metadata": {
  "kernelspec": {
   "display_name": "base",
   "language": "python",
   "name": "python3"
  },
  "language_info": {
   "codemirror_mode": {
    "name": "ipython",
    "version": 3
   },
   "file_extension": ".py",
   "mimetype": "text/x-python",
   "name": "python",
   "nbconvert_exporter": "python",
   "pygments_lexer": "ipython3",
   "version": "3.8.8"
  }
 },
 "nbformat": 4,
 "nbformat_minor": 2
}
